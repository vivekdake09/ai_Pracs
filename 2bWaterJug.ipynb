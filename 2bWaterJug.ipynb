{
 "cells": [
  {
   "cell_type": "code",
   "execution_count": 3,
   "id": "579ecef8-1962-437a-86b8-266b60e40566",
   "metadata": {},
   "outputs": [],
   "source": [
    "from queue import Queue"
   ]
  },
  {
   "cell_type": "code",
   "execution_count": 5,
   "id": "ff708097-7cbf-4622-9a93-1135b463a6a9",
   "metadata": {},
   "outputs": [
    {
     "name": "stdout",
     "output_type": "stream",
     "text": [
      "Water Jug Solution Path:\n",
      "Jug1: 0L, Jug2: 0L\n",
      "Jug1: 5L, Jug2: 0L\n",
      "Jug1: 1L, Jug2: 4L\n",
      "Jug1: 1L, Jug2: 0L\n",
      "Jug1: 0L, Jug2: 1L\n",
      "Jug1: 5L, Jug2: 1L\n",
      "Jug1: 2L, Jug2: 4L\n",
      "Jug1: 2L, Jug2: 0L\n",
      "Jug1: 0L, Jug2: 2L\n"
     ]
    }
   ],
   "source": [
    "def water_jug_bfs(capacity_jug1, capacity_jug2, target):\n",
    "    visited_states = set()\n",
    "    q = Queue()\n",
    "\n",
    "    # Each element in the queue will store: (jug1, jug2, path_taken)\n",
    "    q.put((0, 0, []))\n",
    "\n",
    "    while not q.empty():\n",
    "        jug1, jug2, path = q.get()\n",
    "\n",
    "        # If this state is already visited, skip it\n",
    "        if (jug1, jug2) in visited_states:\n",
    "            continue\n",
    "\n",
    "        # Mark the state as visited\n",
    "        visited_states.add((jug1, jug2))\n",
    "\n",
    "        # Add current state to path\n",
    "        current_path = path + [(jug1, jug2)]\n",
    "\n",
    "        # If we found the exact target state\n",
    "        if (jug1, jug2) == target:\n",
    "            return current_path\n",
    "\n",
    "        # All possible next operations\n",
    "        possible_states = [\n",
    "            (capacity_jug1, jug2),  # Fill jug1\n",
    "            (jug1, capacity_jug2),  # Fill jug2\n",
    "            (0, jug2),              # Empty jug1\n",
    "            (jug1, 0),              # Empty jug2\n",
    "            # Pour jug1 -> jug2\n",
    "            (jug1 - min(jug1, capacity_jug2 - jug2), jug2 + min(jug1, capacity_jug2 - jug2)),\n",
    "            # Pour jug2 -> jug1\n",
    "            (jug1 + min(jug2, capacity_jug1 - jug1), jug2 - min(jug2, capacity_jug1 - jug1))\n",
    "        ]\n",
    "\n",
    "        # Add next states to the queue\n",
    "        for state in possible_states:\n",
    "            if state not in visited_states:\n",
    "                q.put((state[0], state[1], current_path))\n",
    "\n",
    "    return None  # No solution found\n",
    "\n",
    "# Example usage\n",
    "capacity_jug1 = 5\n",
    "capacity_jug2 = 4\n",
    "target = (0,2)  # Looking for Jug1 = 0L and Jug2 = 2L\n",
    "\n",
    "result_path = water_jug_bfs(capacity_jug1, capacity_jug2, target)\n",
    "\n",
    "if result_path:\n",
    "    print(\"Water Jug Solution Path:\")\n",
    "    for step in result_path:\n",
    "        print(f\"Jug1: {step[0]}L, Jug2: {step[1]}L\")\n",
    "else:\n",
    "    print(\"No solution found.\")"
   ]
  },
  {
   "cell_type": "code",
   "execution_count": null,
   "id": "baf407f2-9a93-47cb-8210-dcf8f9f45ff9",
   "metadata": {},
   "outputs": [],
   "source": []
  }
 ],
 "metadata": {
  "kernelspec": {
   "display_name": "Python 3 (ipykernel)",
   "language": "python",
   "name": "python3"
  },
  "language_info": {
   "codemirror_mode": {
    "name": "ipython",
    "version": 3
   },
   "file_extension": ".py",
   "mimetype": "text/x-python",
   "name": "python",
   "nbconvert_exporter": "python",
   "pygments_lexer": "ipython3",
   "version": "3.12.4"
  }
 },
 "nbformat": 4,
 "nbformat_minor": 5
}
