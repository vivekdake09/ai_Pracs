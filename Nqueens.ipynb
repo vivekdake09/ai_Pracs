{
 "cells": [
  {
   "cell_type": "code",
   "execution_count": 1,
   "id": "902212aa-3cc9-4337-8139-5d843ff3a0b9",
   "metadata": {},
   "outputs": [],
   "source": [
    "import random"
   ]
  },
  {
   "cell_type": "code",
   "execution_count": 2,
   "id": "b6abfb73-4e6e-4d18-849b-470319e6b619",
   "metadata": {},
   "outputs": [],
   "source": [
    "def calculate_heuristic(board):\n",
    "    n = len(board)\n",
    "    conflicts = 0\n",
    "    for i in range(n):\n",
    "        for j in range(i + 1, n):\n",
    "            if board[i] == board[j] or abs(board[i] - board[j]) == abs(i - j):\n",
    "                conflicts += 1\n",
    "    return conflicts"
   ]
  },
  {
   "cell_type": "code",
   "execution_count": 3,
   "id": "b633a45f-396e-4bb1-a517-2397d95e3953",
   "metadata": {},
   "outputs": [],
   "source": [
    "def hill_climbing(n, max_restarts=1000):\n",
    "    for _ in range(max_restarts):\n",
    "        current_board = [random.randint(0, n-1) for _ in range(n)]\n",
    "        current_heuristic = calculate_heuristic(current_board)\n",
    "\n",
    "        while True:\n",
    "            neighbor = None\n",
    "            min_heuristic = current_heuristic\n",
    "\n",
    "            for col in range(n):\n",
    "                for row in range(n):\n",
    "                    if current_board[col] != row:\n",
    "                        new_board = list(current_board)\n",
    "                        new_board[col] = row\n",
    "                        new_heuristic = calculate_heuristic(new_board)\n",
    "                        if new_heuristic < min_heuristic:\n",
    "                            neighbor = new_board\n",
    "                            min_heuristic = new_heuristic\n",
    "\n",
    "            if neighbor is None:\n",
    "                break  # Local minimum\n",
    "            current_board = neighbor\n",
    "            current_heuristic = min_heuristic\n",
    "\n",
    "            if current_heuristic == 0:\n",
    "                return current_board\n",
    "\n",
    "    return None  # Failed after max_restarts"
   ]
  },
  {
   "cell_type": "code",
   "execution_count": 4,
   "id": "2ff3b2ef-9b9f-48f7-98c6-ca486c9d9c2a",
   "metadata": {},
   "outputs": [],
   "source": [
    "def print_board(board):\n",
    "    if not board:\n",
    "        print(\"No solution found.\")\n",
    "        return\n",
    "    n = len(board)\n",
    "    for row in range(n):\n",
    "        line = \"\"\n",
    "        for col in range(n):\n",
    "            line += \"Q \" if board[col] == row else \". \"\n",
    "        print(line)\n"
   ]
  },
  {
   "cell_type": "code",
   "execution_count": 15,
   "id": "0fb6c1ac-e780-4bde-8c63-ab96a9dc8f4d",
   "metadata": {},
   "outputs": [
    {
     "name": "stdout",
     "output_type": "stream",
     "text": [
      "N-Queens Solution: [2, 0, 3, 1]\n",
      ". Q . . \n",
      ". . . Q \n",
      "Q . . . \n",
      ". . Q . \n"
     ]
    }
   ],
   "source": [
    "n = 4\n",
    "solution = hill_climbing(n)\n",
    "print(\"N-Queens Solution:\", solution)\n",
    "print_board(solution)"
   ]
  },
  {
   "cell_type": "code",
   "execution_count": null,
   "id": "864b6c37-e6b5-4a49-b2cc-c860f2d60815",
   "metadata": {},
   "outputs": [],
   "source": []
  }
 ],
 "metadata": {
  "kernelspec": {
   "display_name": "Python 3 (ipykernel)",
   "language": "python",
   "name": "python3"
  },
  "language_info": {
   "codemirror_mode": {
    "name": "ipython",
    "version": 3
   },
   "file_extension": ".py",
   "mimetype": "text/x-python",
   "name": "python",
   "nbconvert_exporter": "python",
   "pygments_lexer": "ipython3",
   "version": "3.12.10"
  }
 },
 "nbformat": 4,
 "nbformat_minor": 5
}
