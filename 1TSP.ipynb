{
 "cells": [
  {
   "cell_type": "code",
   "execution_count": 1,
   "id": "d40fd7e6-2f1c-431c-8c39-8ea22a298d4f",
   "metadata": {},
   "outputs": [],
   "source": [
    "import numpy as np"
   ]
  },
  {
   "cell_type": "code",
   "execution_count": 3,
   "id": "2b75aee8-a465-439e-81c6-f2c1821dda9d",
   "metadata": {},
   "outputs": [],
   "source": [
    "def calculate_distance(city1, city2):\n",
    "    return np.linalg.norm(np.array(city1) - np.array(city2))"
   ]
  },
  {
   "cell_type": "code",
   "execution_count": 5,
   "id": "cb497996-7c34-4747-bfb9-89167e2bf307",
   "metadata": {},
   "outputs": [],
   "source": [
    "def nearest_neighbor_algorithm(city_coordinates):\n",
    "    num_cities = len(city_coordinates)\n",
    "    unvisited_cities = set(range(num_cities))\n",
    "    tour = []\n",
    "\n",
    "    # Start from a random city\n",
    "    current_city = np.random.choice(list(unvisited_cities))\n",
    "    unvisited_cities.remove(current_city)\n",
    "    tour.append(current_city)\n",
    "\n",
    "    while unvisited_cities:\n",
    "        nearest_city = min(\n",
    "            unvisited_cities,\n",
    "            key=lambda city: calculate_distance(city_coordinates[current_city], city_coordinates[city])\n",
    "        )\n",
    "        unvisited_cities.remove(nearest_city)\n",
    "        tour.append(nearest_city)\n",
    "        current_city = nearest_city\n",
    "\n",
    "    return tour"
   ]
  },
  {
   "cell_type": "code",
   "execution_count": 7,
   "id": "a8ed98ae-fc51-454c-97c1-70c434073f0a",
   "metadata": {},
   "outputs": [],
   "source": [
    "def calculate_total_distance(tour, city_coordinates):\n",
    "    total_distance = 0\n",
    "    for i in range(len(tour)):\n",
    "        start_city = city_coordinates[tour[i]]\n",
    "        end_city = city_coordinates[tour[(i + 1) % len(tour)]]  # Loop back to start\n",
    "        total_distance += calculate_distance(start_city, end_city)\n",
    "    return total_distance"
   ]
  },
  {
   "cell_type": "code",
   "execution_count": 9,
   "id": "c318006a-2cc0-4b42-9417-f47a351c3b2d",
   "metadata": {},
   "outputs": [
    {
     "name": "stdout",
     "output_type": "stream",
     "text": [
      "Optimal tour: [4, 2, 5, 1, 3, 0]\n",
      "Total distance: 22.962216335932776\n"
     ]
    }
   ],
   "source": [
    "city_coordinates = [(0, 0), (2, 3), (5, 4), (1, 6), (6, 1), (3, 5)]\n",
    "\n",
    "tour = nearest_neighbor_algorithm(city_coordinates)\n",
    "total_distance = calculate_total_distance(tour, city_coordinates)\n",
    "\n",
    "print(\"Optimal tour:\", tour)\n",
    "print(\"Total distance:\", total_distance)"
   ]
  },
  {
   "cell_type": "code",
   "execution_count": null,
   "id": "5012f648-6e28-4d5a-a690-c71e44d3ca03",
   "metadata": {},
   "outputs": [],
   "source": []
  }
 ],
 "metadata": {
  "kernelspec": {
   "display_name": "Python 3 (ipykernel)",
   "language": "python",
   "name": "python3"
  },
  "language_info": {
   "codemirror_mode": {
    "name": "ipython",
    "version": 3
   },
   "file_extension": ".py",
   "mimetype": "text/x-python",
   "name": "python",
   "nbconvert_exporter": "python",
   "pygments_lexer": "ipython3",
   "version": "3.12.4"
  }
 },
 "nbformat": 4,
 "nbformat_minor": 5
}
