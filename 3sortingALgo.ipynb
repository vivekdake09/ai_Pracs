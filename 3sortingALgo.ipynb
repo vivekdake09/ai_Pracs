{
 "cells": [
  {
   "cell_type": "code",
   "execution_count": null,
   "id": "e75bb6e6-4378-4bbf-bc3d-3472e2c8c8c9",
   "metadata": {},
   "outputs": [],
   "source": [
    "Name - Vivek Dake \n",
    "Dept.  -TE[IT]\n",
    "Roll No - 10\n"
   ]
  },
  {
   "cell_type": "code",
   "execution_count": 1,
   "id": "1944b211-d138-4c29-8336-10279d0c9f62",
   "metadata": {},
   "outputs": [],
   "source": [
    "def bubble_sort(arr):\n",
    "    n = len(arr)\n",
    "    for i in range(n):\n",
    "        for j in range(0, n - i - 1):\n",
    "            if arr[j] > arr[j + 1]:\n",
    "                arr[j], arr[j + 1] = arr[j + 1], arr[j]"
   ]
  },
  {
   "cell_type": "code",
   "execution_count": 12,
   "id": "3967cf82-ee10-4322-b025-e4c0ba77abf2",
   "metadata": {},
   "outputs": [],
   "source": [
    "def selection_sort(arr):\n",
    "    n = len(arr)\n",
    "    for i in range(n):\n",
    "        min_index = i\n",
    "        for j in range(i + 1, n):\n",
    "            if arr[j] < arr[min_index]:\n",
    "                min_index = j\n",
    "        arr[i], arr[min_index] = arr[min_index], arr[i]"
   ]
  },
  {
   "cell_type": "code",
   "execution_count": 16,
   "id": "e0c2ea98-7d32-4871-9556-00d335df9a08",
   "metadata": {},
   "outputs": [],
   "source": [
    "def merge_sort(arr):\n",
    "    if len(arr) > 1:\n",
    "        mid = len(arr) // 2\n",
    "        left_half = arr[:mid]\n",
    "        right_half = arr[mid:]\n",
    "\n",
    "        merge_sort(left_half)\n",
    "        merge_sort(right_half)\n",
    "\n",
    "        i = j = k = 0\n",
    "\n",
    "        while i < len(left_half) and j < len(right_half):\n",
    "            if left_half[i] < right_half[j]:\n",
    "                arr[k] = left_half[i]\n",
    "                i += 1\n",
    "            else:\n",
    "                arr[k] = right_half[j]\n",
    "                j += 1\n",
    "            k += 1\n",
    "\n",
    "        while i < len(left_half):\n",
    "            arr[k] = left_half[i]\n",
    "            i += 1\n",
    "            k += 1\n",
    "\n",
    "        while j < len(right_half):\n",
    "            arr[k] = right_half[j]\n",
    "            j += 1\n",
    "            k += 1"
   ]
  },
  {
   "cell_type": "code",
   "execution_count": 18,
   "id": "731ac653-de0f-464c-b06d-3d8535632771",
   "metadata": {},
   "outputs": [
    {
     "name": "stdin",
     "output_type": "stream",
     "text": [
      "Enter space-separated integers for the array:  6 1 8 7 9\n"
     ]
    }
   ],
   "source": [
    "input_str = input(\"Enter space-separated integers for the array: \")\n",
    "arr = list(map(int, input_str.split()))\n"
   ]
  },
  {
   "cell_type": "code",
   "execution_count": 8,
   "id": "1cb499be-04e3-4a5c-bc11-17dce4414882",
   "metadata": {},
   "outputs": [
    {
     "name": "stdin",
     "output_type": "stream",
     "text": [
      "Enter sorting method (bubble/selection/merge):  selection\n"
     ]
    }
   ],
   "source": [
    "sorting_method = input(\"Enter sorting method (bubble/selection/merge): \").lower()"
   ]
  },
  {
   "cell_type": "code",
   "execution_count": 14,
   "id": "a6b444b5-31a0-4442-bfb5-67bf7fda46e3",
   "metadata": {},
   "outputs": [
    {
     "name": "stdout",
     "output_type": "stream",
     "text": [
      "Selection Sorted Array: [1, 2, 3, 4, 5]\n"
     ]
    }
   ],
   "source": [
    "if sorting_method == 'bubble':\n",
    "    bubble_sorted_arr = list(arr)\n",
    "    bubble_sort(bubble_sorted_arr)\n",
    "    print(\"Bubble Sorted Array:\", bubble_sorted_arr)\n",
    "elif sorting_method == 'selection':\n",
    "    selection_sorted_arr = list(arr)\n",
    "    selection_sort(selection_sorted_arr)\n",
    "    print(\"Selection Sorted Array:\", selection_sorted_arr)\n",
    "elif sorting_method == 'merge':\n",
    "    merge_sorted_arr = list(arr)\n",
    "    merge_sort(merge_sorted_arr)\n",
    "    print(\"Merge Sorted Array:\", merge_sorted_arr)\n",
    "else:\n",
    "    print(\"Invalid sorting method. Please enter 'bubble', 'selection', or 'merge'.\")"
   ]
  },
  {
   "cell_type": "code",
   "execution_count": null,
   "id": "3cb9df1c-a66e-44dd-b1d9-08931cc69d74",
   "metadata": {},
   "outputs": [],
   "source": []
  }
 ],
 "metadata": {
  "kernelspec": {
   "display_name": "Python 3 (ipykernel)",
   "language": "python",
   "name": "python3"
  },
  "language_info": {
   "codemirror_mode": {
    "name": "ipython",
    "version": 3
   },
   "file_extension": ".py",
   "mimetype": "text/x-python",
   "name": "python",
   "nbconvert_exporter": "python",
   "pygments_lexer": "ipython3",
   "version": "3.12.4"
  }
 },
 "nbformat": 4,
 "nbformat_minor": 5
}
