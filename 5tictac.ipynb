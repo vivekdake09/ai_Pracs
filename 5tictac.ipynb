{
 "cells": [
  {
   "cell_type": "code",
   "execution_count": null,
   "id": "190d7827-0ce8-43bb-b9ad-28c05e032036",
   "metadata": {},
   "outputs": [],
   "source": [
    "Name : Ashutosh Waghire\n",
    "Roll no : 66\n",
    "Dept : TE IT"
   ]
  },
  {
   "cell_type": "code",
   "execution_count": 4,
   "id": "5756f2a6-57e4-4e6c-be02-662e8ecd9a89",
   "metadata": {},
   "outputs": [
    {
     "name": "stdout",
     "output_type": "stream",
     "text": [
      "Requirement already satisfied: pygame in c:\\users\\vivek\\anaconda3\\lib\\site-packages (2.6.1)\n",
      "Note: you may need to restart the kernel to use updated packages.\n"
     ]
    },
    {
     "name": "stderr",
     "output_type": "stream",
     "text": [
      "\n",
      "[notice] A new release of pip is available: 25.0.1 -> 25.1.1\n",
      "[notice] To update, run: python.exe -m pip install --upgrade pip\n"
     ]
    }
   ],
   "source": [
    "pip install pygame"
   ]
  },
  {
   "cell_type": "code",
   "execution_count": 5,
   "id": "e645b889-4e4b-4d04-9006-582f82d801fa",
   "metadata": {},
   "outputs": [
    {
     "name": "stdout",
     "output_type": "stream",
     "text": [
      "pygame 2.6.1 (SDL 2.28.4, Python 3.12.4)\n",
      "Hello from the pygame community. https://www.pygame.org/contribute.html\n"
     ]
    }
   ],
   "source": [
    "import pygame\n",
    "import sys\n",
    "import random"
   ]
  },
  {
   "cell_type": "code",
   "execution_count": 6,
   "id": "7832c703-7b76-4a96-93ee-40d0a9c93780",
   "metadata": {},
   "outputs": [
    {
     "data": {
      "text/plain": [
       "(5, 0)"
      ]
     },
     "execution_count": 6,
     "metadata": {},
     "output_type": "execute_result"
    }
   ],
   "source": [
    "# Initialize Pygame\n",
    "pygame.init()"
   ]
  },
  {
   "cell_type": "code",
   "execution_count": 7,
   "id": "17830f0b-788d-452a-86e0-426bbcfc54b1",
   "metadata": {},
   "outputs": [],
   "source": [
    "# Constants\n",
    "WIDTH, HEIGHT = 300, 300\n",
    "GRID_SIZE = 3\n",
    "CELL_SIZE = WIDTH // GRID_SIZE"
   ]
  },
  {
   "cell_type": "code",
   "execution_count": 8,
   "id": "731183b4-08ed-4e55-912a-080464b3aeda",
   "metadata": {},
   "outputs": [],
   "source": [
    "# Colors\n",
    "WHITE = (255, 255, 255)\n",
    "BLACK = (0, 0, 0)\n",
    "RED = (255, 0, 0)"
   ]
  },
  {
   "cell_type": "code",
   "execution_count": 9,
   "id": "0cc823ad-be39-43ad-be63-51ef2323c8f5",
   "metadata": {},
   "outputs": [],
   "source": [
    "# Create the game window\n",
    "screen = pygame.display.set_mode((WIDTH, HEIGHT))\n",
    "pygame.display.set_caption(\"Tic-Tac-Toe\")"
   ]
  },
  {
   "cell_type": "code",
   "execution_count": 10,
   "id": "8cbda0d3-630b-4eb1-97f8-06faf4ee057b",
   "metadata": {},
   "outputs": [],
   "source": [
    "# Initialize the game board\n",
    "board = [[' ' for _ in range(GRID_SIZE)] for _ in range(GRID_SIZE)]"
   ]
  },
  {
   "cell_type": "code",
   "execution_count": 11,
   "id": "9a358d96-5386-4ac2-b0aa-280bcdd97194",
   "metadata": {},
   "outputs": [],
   "source": [
    "# Function to draw the grid lines\n",
    "def draw_grid():\n",
    "    for i in range(1, GRID_SIZE):\n",
    "        pygame.draw.line(screen, BLACK, (i * CELL_SIZE, 0), (i * CELL_SIZE, HEIGHT), 2)\n",
    "        pygame.draw.line(screen, BLACK, (0, i * CELL_SIZE), (WIDTH, i * CELL_SIZE), 2)"
   ]
  },
  {
   "cell_type": "code",
   "execution_count": 12,
   "id": "ffe845b3-b7ff-4531-85dd-72a804101eb2",
   "metadata": {},
   "outputs": [],
   "source": [
    "# Function to draw X or O in a cell\n",
    "def draw_symbol(row, col, symbol):\n",
    "    font = pygame.font.Font(None, 100)\n",
    "    text = font.render(symbol, True, BLACK)\n",
    "    text_rect = text.get_rect(center=((col * CELL_SIZE) + CELL_SIZE // 2, (row * CELL_SIZE) + CELL_SIZE // 2))\n",
    "    screen.blit(text, text_rect)"
   ]
  },
  {
   "cell_type": "code",
   "execution_count": 13,
   "id": "c70ee379-d8fd-4f64-acbf-379a5b06c55f",
   "metadata": {},
   "outputs": [],
   "source": [
    "# Function to check for a win\n",
    "def check_winner(symbol):\n",
    "    for i in range(GRID_SIZE):\n",
    "        if all(board[i][j] == symbol for j in range(GRID_SIZE)) or all(board[j][i] == symbol for j in range(GRID_SIZE)):\n",
    "            return True\n",
    "    if all(board[i][i] == symbol for i in range(GRID_SIZE)) or all(board[i][GRID_SIZE - 1 - i] == symbol for i in range(GRID_SIZE)):\n",
    "        return True\n",
    "    return False"
   ]
  },
  {
   "cell_type": "code",
   "execution_count": 14,
   "id": "171b48bf-5750-4946-8174-5c71295e6140",
   "metadata": {},
   "outputs": [],
   "source": [
    "# Function to check for a draw\n",
    "def is_board_full():\n",
    "    return all(board[i][j] != ' ' for i in range(GRID_SIZE) for j in range(GRID_SIZE))"
   ]
  },
  {
   "cell_type": "code",
   "execution_count": 15,
   "id": "43e1e052-6dd2-468e-8270-3c83efba29bb",
   "metadata": {},
   "outputs": [],
   "source": [
    "# Function to reset the game\n",
    "def reset_game():\n",
    "    global board\n",
    "    board = [[' ' for _ in range(GRID_SIZE)] for _ in range(GRID_SIZE)]"
   ]
  },
  {
   "cell_type": "code",
   "execution_count": 16,
   "id": "36e03529-8369-4f55-b37f-fad6ec206a2f",
   "metadata": {},
   "outputs": [],
   "source": [
    "# Main game loop\n",
    "turn = 'X'\n",
    "running = True"
   ]
  },
  {
   "cell_type": "code",
   "execution_count": 17,
   "id": "66c8fcd0-efec-4204-9b71-fe3e6144a9a3",
   "metadata": {},
   "outputs": [
    {
     "name": "stdout",
     "output_type": "stream",
     "text": [
      "X wins!\n",
      "It's a draw!\n"
     ]
    }
   ],
   "source": [
    "while running:\n",
    "    for event in pygame.event.get():\n",
    "        if event.type == pygame.QUIT:\n",
    "            running = False\n",
    "        elif event.type == pygame.MOUSEBUTTONDOWN and event.button == 1:  # Left mouse button clicked\n",
    "            mouseX, mouseY = event.pos\n",
    "            clicked_row = mouseY // CELL_SIZE\n",
    "            clicked_col = mouseX // CELL_SIZE\n",
    "\n",
    "            if 0 <= clicked_row < GRID_SIZE and 0 <= clicked_col < GRID_SIZE and board[clicked_row][clicked_col] == ' ':\n",
    "                board[clicked_row][clicked_col] = turn\n",
    "\n",
    "                # Check for a win\n",
    "                if check_winner(turn):\n",
    "                    print(f'{turn} wins!')\n",
    "                    reset_game()\n",
    "\n",
    "                # Check for a draw\n",
    "                elif is_board_full():\n",
    "                    print(\"It's a draw!\")\n",
    "                    reset_game()\n",
    "\n",
    "                # Switch turn\n",
    "                turn = 'O' if turn == 'X' else 'X'\n",
    "\n",
    "    # Draw the grid\n",
    "    screen.fill(WHITE)\n",
    "    draw_grid()\n",
    "\n",
    "    # Draw X or O in each cell\n",
    "    for row in range(GRID_SIZE):\n",
    "        for col in range(GRID_SIZE):\n",
    "            if board[row][col] != ' ':\n",
    "                draw_symbol(row, col, board[row][col])\n",
    "\n",
    "    pygame.display.flip()"
   ]
  },
  {
   "cell_type": "code",
   "execution_count": 18,
   "id": "3f4946ad-c5d1-48fc-879f-03d2898274c4",
   "metadata": {},
   "outputs": [
    {
     "ename": "SystemExit",
     "evalue": "",
     "output_type": "error",
     "traceback": [
      "An exception has occurred, use %tb to see the full traceback.\n",
      "\u001b[1;31mSystemExit\u001b[0m\n"
     ]
    },
    {
     "name": "stderr",
     "output_type": "stream",
     "text": [
      "C:\\Users\\vivek\\anaconda3\\Lib\\site-packages\\IPython\\core\\interactiveshell.py:3585: UserWarning: To exit: use 'exit', 'quit', or Ctrl-D.\n",
      "  warn(\"To exit: use 'exit', 'quit', or Ctrl-D.\", stacklevel=1)\n"
     ]
    }
   ],
   "source": [
    "# Quit Pygame\n",
    "pygame.quit()\n",
    "sys.exit()"
   ]
  },
  {
   "cell_type": "code",
   "execution_count": null,
   "id": "1fecebe8-487b-4c03-ab9a-73e303628ed9",
   "metadata": {},
   "outputs": [],
   "source": []
  }
 ],
 "metadata": {
  "kernelspec": {
   "display_name": "Python 3 (ipykernel)",
   "language": "python",
   "name": "python3"
  },
  "language_info": {
   "codemirror_mode": {
    "name": "ipython",
    "version": 3
   },
   "file_extension": ".py",
   "mimetype": "text/x-python",
   "name": "python",
   "nbconvert_exporter": "python",
   "pygments_lexer": "ipython3",
   "version": "3.12.4"
  }
 },
 "nbformat": 4,
 "nbformat_minor": 5
}
